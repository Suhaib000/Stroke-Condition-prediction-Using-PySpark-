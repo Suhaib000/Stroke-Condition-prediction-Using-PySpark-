{
 "cells": [
  {
   "cell_type": "markdown",
   "id": "8326ba88",
   "metadata": {
    "id": "8326ba88"
   },
   "source": [
    "## Objective:\n",
    "- The objective from this project is to create a <b>Logistic Regression Classifier</b> to predict the <b>Stroke Condition</b>.\n",
    "- <b>Stoke</b> is a condition in which either the blood flow to the brain stops or blood flow is excessive.\n"
   ]
  },
  {
   "cell_type": "markdown",
   "id": "0eb78c16",
   "metadata": {
    "id": "0eb78c16"
   },
   "source": [
    "### Data:\n",
    "- Data is provided in csv format in a file named <b>healthcare-dataset-stroke-data.csv</b>"
   ]
  },
  {
   "cell_type": "markdown",
   "id": "7c842b79",
   "metadata": {
    "id": "7c842b79"
   },
   "source": [
    "### Column names and data types are as follow:\n",
    "- id, integer.\n",
    "- gender, string.\n",
    "- age, double.\n",
    "- hypertension, integer.\n",
    "- heart_disease, integer.\n",
    "- ever_married, string.\n",
    "- work_type, string.\n",
    "- Residence_type, string.\n",
    "- avg_glucose_level, double.\n",
    "- bmi, double.\n",
    "- smoking_status, string.\n",
    "- stroke, integer <b>(Target Label)</b>.\n",
    "If the person has stroke the stroke label value is <b>\"1\"</b> otherwise <b>\"0\"</b>."
   ]
  },
  {
   "cell_type": "markdown",
   "id": "e31bc851",
   "metadata": {
    "id": "e31bc851"
   },
   "source": [
    "### Create a spark session and import the required libraries"
   ]
  },
  {
   "cell_type": "code",
   "execution_count": 1,
   "id": "ab3ba311",
   "metadata": {
    "colab": {
     "base_uri": "https://localhost:8080/"
    },
    "id": "ab3ba311",
    "outputId": "9d68f8f7-fec0-423e-f9c0-300a5c992c72"
   },
   "outputs": [
    {
     "name": "stdout",
     "output_type": "stream",
     "text": [
      "Requirement already satisfied: pyspark in /usr/local/lib/python3.7/dist-packages (3.2.0)\n",
      "Requirement already satisfied: py4j==0.10.9.2 in /usr/local/lib/python3.7/dist-packages (from pyspark) (0.10.9.2)\n"
     ]
    }
   ],
   "source": [
    "pip install pyspark"
   ]
  },
  {
   "cell_type": "code",
   "execution_count": 2,
   "id": "1RBvLezZpBBZ",
   "metadata": {
    "id": "1RBvLezZpBBZ"
   },
   "outputs": [],
   "source": [
    "\n",
    "from pyspark.sql import SparkSession\n",
    "from pyspark.sql.functions import count\n",
    "from pyspark.sql.functions import *"
   ]
  },
  {
   "cell_type": "code",
   "execution_count": 3,
   "id": "qGJROsjEpDas",
   "metadata": {
    "id": "qGJROsjEpDas"
   },
   "outputs": [],
   "source": [
    "from pyspark.sql import SparkSession\n",
    "spark = SparkSession.builder.appName(\"First Project\").getOrCreate()"
   ]
  },
  {
   "cell_type": "markdown",
   "id": "843b8468",
   "metadata": {
    "id": "843b8468"
   },
   "source": [
    "### Create a data schema programatically"
   ]
  },
  {
   "cell_type": "code",
   "execution_count": 4,
   "id": "QNf_ULxDuOB6",
   "metadata": {
    "id": "QNf_ULxDuOB6"
   },
   "outputs": [],
   "source": [
    "from pyspark.sql.types import StructField, StructType , LongType, StringType  , IntegerType , DoubleType\n",
    "\n",
    "\n",
    "dfSchema = StructType(\n",
    "    [\n",
    "\t\tStructField(\"id\", \t\t\t\tIntegerType()  , ) ,\n",
    "\t\tStructField(\"gender\", \t\t\tStringType()   , ) ,\n",
    "\t\tStructField(\"age\", \t\t\t\tDoubleType()   , ) ,\n",
    "\t\tStructField(\"hypertension\", \tIntegerType()  , ) ,\n",
    "\t\tStructField(\"heart_disease\", \tIntegerType()  , ) ,\n",
    "\t\tStructField(\"ever_married\", \tStringType()   , ) ,\n",
    "\t\tStructField(\"work_type\", \t\tStringType()   , ) ,\n",
    "\t\tStructField(\"Residence_type\", \tStringType()   , ) ,\n",
    "\t\tStructField(\"avg_glucose_level\",DoubleType()   , ) ,\n",
    "\t\tStructField(\"bmi\", \t\t\t\tDoubleType()   , ) ,\n",
    "\t\tStructField(\"smoking_status\", \tStringType()   , ) ,\n",
    "\t\tStructField(\"stroke\", \t\t\tIntegerType()  , nullable=False) ,\n",
    "     ])"
   ]
  },
  {
   "cell_type": "code",
   "execution_count": 5,
   "id": "61fcc4cd",
   "metadata": {
    "id": "61fcc4cd"
   },
   "outputs": [],
   "source": [
    "train = spark.read.csv('/content/healthcare-dataset-stroke-data.csv', header=True, schema=dfSchema)"
   ]
  },
  {
   "cell_type": "markdown",
   "id": "974bc193",
   "metadata": {
    "id": "974bc193"
   },
   "source": [
    "### Explore the data \n",
    "#### You have to do the following:\n",
    "- Print the Schema.\n",
    "- Show the first 10 rows from the data.\n",
    "- Explore null values and show how many null values in each column.\n",
    "- Plot a count plot for the target label and <b>notice the graph</b>.\n",
    "- Perform any additional EDA you find useful."
   ]
  },
  {
   "cell_type": "markdown",
   "id": "j89pbkArwozq",
   "metadata": {
    "id": "j89pbkArwozq"
   },
   "source": [
    "**Print the Schema**"
   ]
  },
  {
   "cell_type": "code",
   "execution_count": 6,
   "id": "353b6f34",
   "metadata": {
    "colab": {
     "base_uri": "https://localhost:8080/"
    },
    "id": "353b6f34",
    "outputId": "ae08636f-5c66-4830-ed3e-dd24051f188b"
   },
   "outputs": [
    {
     "name": "stdout",
     "output_type": "stream",
     "text": [
      "root\n",
      " |-- id: integer (nullable = true)\n",
      " |-- gender: string (nullable = true)\n",
      " |-- age: double (nullable = true)\n",
      " |-- hypertension: integer (nullable = true)\n",
      " |-- heart_disease: integer (nullable = true)\n",
      " |-- ever_married: string (nullable = true)\n",
      " |-- work_type: string (nullable = true)\n",
      " |-- Residence_type: string (nullable = true)\n",
      " |-- avg_glucose_level: double (nullable = true)\n",
      " |-- bmi: double (nullable = true)\n",
      " |-- smoking_status: string (nullable = true)\n",
      " |-- stroke: integer (nullable = true)\n",
      "\n"
     ]
    }
   ],
   "source": [
    "train.printSchema()"
   ]
  },
  {
   "cell_type": "markdown",
   "id": "mp3cOkxdwuT5",
   "metadata": {
    "id": "mp3cOkxdwuT5"
   },
   "source": [
    "**Show the first 10 rows from the data.**"
   ]
  },
  {
   "cell_type": "code",
   "execution_count": 7,
   "id": "0vIK-aLSuGfQ",
   "metadata": {
    "colab": {
     "base_uri": "https://localhost:8080/"
    },
    "id": "0vIK-aLSuGfQ",
    "outputId": "b821c81e-5e5d-4d85-fd0f-70dfb5073bda"
   },
   "outputs": [
    {
     "name": "stdout",
     "output_type": "stream",
     "text": [
      "+-----+------+----+------------+-------------+------------+-------------+--------------+-----------------+----+---------------+------+\n",
      "|   id|gender| age|hypertension|heart_disease|ever_married|    work_type|Residence_type|avg_glucose_level| bmi| smoking_status|stroke|\n",
      "+-----+------+----+------------+-------------+------------+-------------+--------------+-----------------+----+---------------+------+\n",
      "| 9046|  Male|67.0|           0|            1|         Yes|      Private|         Urban|           228.69|36.6|formerly smoked|     1|\n",
      "|51676|Female|61.0|           0|            0|         Yes|Self-employed|         Rural|           202.21|null|   never smoked|     1|\n",
      "|31112|  Male|80.0|           0|            1|         Yes|      Private|         Rural|           105.92|32.5|   never smoked|     1|\n",
      "|60182|Female|49.0|           0|            0|         Yes|      Private|         Urban|           171.23|34.4|         smokes|     1|\n",
      "| 1665|Female|79.0|           1|            0|         Yes|Self-employed|         Rural|           174.12|24.0|   never smoked|     1|\n",
      "|56669|  Male|81.0|           0|            0|         Yes|      Private|         Urban|           186.21|29.0|formerly smoked|     1|\n",
      "|53882|  Male|74.0|           1|            1|         Yes|      Private|         Rural|            70.09|27.4|   never smoked|     1|\n",
      "|10434|Female|69.0|           0|            0|          No|      Private|         Urban|            94.39|22.8|   never smoked|     1|\n",
      "|27419|Female|59.0|           0|            0|         Yes|      Private|         Rural|            76.15|null|        Unknown|     1|\n",
      "|60491|Female|78.0|           0|            0|         Yes|      Private|         Urban|            58.57|24.2|        Unknown|     1|\n",
      "+-----+------+----+------------+-------------+------------+-------------+--------------+-----------------+----+---------------+------+\n",
      "only showing top 10 rows\n",
      "\n"
     ]
    }
   ],
   "source": [
    "train.show(10)"
   ]
  },
  {
   "cell_type": "markdown",
   "id": "FuT2ChIswyTR",
   "metadata": {
    "id": "FuT2ChIswyTR"
   },
   "source": [
    "**Explore null values and show how many null values in each column**"
   ]
  },
  {
   "cell_type": "code",
   "execution_count": 8,
   "id": "DzPXaOiVuyfx",
   "metadata": {
    "colab": {
     "base_uri": "https://localhost:8080/"
    },
    "id": "DzPXaOiVuyfx",
    "outputId": "5cc21e47-4ae7-487d-a18d-8820902d1029"
   },
   "outputs": [
    {
     "name": "stdout",
     "output_type": "stream",
     "text": [
      "[('bmi', 201)]\n"
     ]
    }
   ],
   "source": [
    "import  pyspark.sql.functions as F\n",
    "null_columns = []\n",
    "for col_name in train.columns:\n",
    "    null_values = train.where(F.col(col_name).isNull()).count()\n",
    "    if(null_values > 0):\n",
    "        null_columns.append((col_name, null_values))\n",
    "print(null_columns)"
   ]
  },
  {
   "cell_type": "code",
   "execution_count": 9,
   "id": "m1IG-UmqvAer",
   "metadata": {
    "colab": {
     "base_uri": "https://localhost:8080/"
    },
    "id": "m1IG-UmqvAer",
    "outputId": "13288c4c-361d-4cdc-87eb-9d4ff852588a"
   },
   "outputs": [
    {
     "name": "stdout",
     "output_type": "stream",
     "text": [
      "+------+-------------+\n",
      "|column|missing_value|\n",
      "+------+-------------+\n",
      "|   bmi|          201|\n",
      "+------+-------------+\n",
      "\n"
     ]
    }
   ],
   "source": [
    "spark.createDataFrame(null_columns, ['column', 'missing_value']).show()"
   ]
  },
  {
   "cell_type": "markdown",
   "id": "zS5HMkWCvt40",
   "metadata": {
    "id": "zS5HMkWCvt40"
   },
   "source": [
    "**Plot a count plot for the target label and notice the graph.**"
   ]
  },
  {
   "cell_type": "code",
   "execution_count": 10,
   "id": "7bhD3sqlvqFG",
   "metadata": {
    "colab": {
     "base_uri": "https://localhost:8080/",
     "height": 110
    },
    "id": "7bhD3sqlvqFG",
    "outputId": "fff98d78-4e61-460b-db22-6bd7d4c2a252"
   },
   "outputs": [
    {
     "data": {
      "text/html": [
       "<div>\n",
       "<style scoped>\n",
       "    .dataframe tbody tr th:only-of-type {\n",
       "        vertical-align: middle;\n",
       "    }\n",
       "\n",
       "    .dataframe tbody tr th {\n",
       "        vertical-align: top;\n",
       "    }\n",
       "\n",
       "    .dataframe thead th {\n",
       "        text-align: right;\n",
       "    }\n",
       "</style>\n",
       "<table border=\"1\" class=\"dataframe\">\n",
       "  <thead>\n",
       "    <tr style=\"text-align: right;\">\n",
       "      <th></th>\n",
       "      <th>stroke</th>\n",
       "      <th>count</th>\n",
       "    </tr>\n",
       "  </thead>\n",
       "  <tbody>\n",
       "    <tr>\n",
       "      <th>0</th>\n",
       "      <td>1</td>\n",
       "      <td>249</td>\n",
       "    </tr>\n",
       "    <tr>\n",
       "      <th>1</th>\n",
       "      <td>0</td>\n",
       "      <td>4861</td>\n",
       "    </tr>\n",
       "  </tbody>\n",
       "</table>\n",
       "</div>"
      ],
      "text/plain": [
       "   stroke  count\n",
       "0       1    249\n",
       "1       0   4861"
      ]
     },
     "execution_count": 10,
     "metadata": {},
     "output_type": "execute_result"
    }
   ],
   "source": [
    "train.groupby('stroke').count().toPandas()"
   ]
  },
  {
   "cell_type": "code",
   "execution_count": 11,
   "id": "OvNlD-SbvCc7",
   "metadata": {
    "colab": {
     "base_uri": "https://localhost:8080/",
     "height": 640
    },
    "id": "OvNlD-SbvCc7",
    "outputId": "cfe7ed51-8049-429f-ed4c-223074c0b420"
   },
   "outputs": [
    {
     "name": "stdout",
     "output_type": "stream",
     "text": [
      "5110\n"
     ]
    },
    {
     "data": {
      "text/plain": [
       "<matplotlib.axes._subplots.AxesSubplot at 0x7f52973f11d0>"
      ]
     },
     "execution_count": 11,
     "metadata": {},
     "output_type": "execute_result"
    },
    {
     "data": {
      "image/png": "[encoded data removed]",
      "text/plain": [
       "<Figure size 864x720 with 1 Axes>"
      ]
     },
     "metadata": {
      "needs_background": "light"
     },
     "output_type": "display_data"
    }
   ],
   "source": [
    "import matplotlib.pyplot as plt\n",
    "import seaborn as sns\n",
    "%matplotlib inline\n",
    "df_pd = train.toPandas()\n",
    "print(len(df_pd))\n",
    "plt.figure(figsize=(12,10))\n",
    "sns.countplot(x='stroke', data=df_pd, order=df_pd['stroke'].value_counts().index)"
   ]
  },
  {
   "cell_type": "markdown",
   "id": "2TmYklECxLGI",
   "metadata": {
    "id": "2TmYklECxLGI"
   },
   "source": [
    "we can see here unbalance data for storke column so here we can take care about spliting data to make sure for every data split we have the same ratio of each class so i see we can use stratify method "
   ]
  },
  {
   "cell_type": "code",
   "execution_count": 11,
   "id": "6fb198f0",
   "metadata": {
    "id": "6fb198f0"
   },
   "outputs": [],
   "source": []
  },
  {
   "cell_type": "markdown",
   "id": "ZBbaafyBxF6q",
   "metadata": {
    "id": "ZBbaafyBxF6q"
   },
   "source": [
    "**dditional EDA I find it useful**"
   ]
  },
  {
   "cell_type": "code",
   "execution_count": 12,
   "id": "JV1OPvtkyTG2",
   "metadata": {
    "colab": {
     "base_uri": "https://localhost:8080/"
    },
    "id": "JV1OPvtkyTG2",
    "outputId": "d074a3c6-d15c-4bf9-dcbb-f2185420f06a"
   },
   "outputs": [
    {
     "name": "stdout",
     "output_type": "stream",
     "text": [
      "5110\n"
     ]
    }
   ],
   "source": [
    "train_count = train.count()\n",
    "print(train_count)"
   ]
  },
  {
   "cell_type": "code",
   "execution_count": 13,
   "id": "5j-lvhRdyVtZ",
   "metadata": {
    "colab": {
     "base_uri": "https://localhost:8080/"
    },
    "id": "5j-lvhRdyVtZ",
    "outputId": "75714c96-0354-40b7-983a-ba7c97628946"
   },
   "outputs": [
    {
     "name": "stdout",
     "output_type": "stream",
     "text": [
      "+-------+-----------------+------+------------------+------------------+-------------------+------------+---------+--------------+------------------+------------------+--------------+-------------------+\n",
      "|summary|               id|gender|               age|      hypertension|      heart_disease|ever_married|work_type|Residence_type| avg_glucose_level|               bmi|smoking_status|             stroke|\n",
      "+-------+-----------------+------+------------------+------------------+-------------------+------------+---------+--------------+------------------+------------------+--------------+-------------------+\n",
      "|  count|             5110|  5110|              5110|              5110|               5110|        5110|     5110|          5110|              5110|              4909|          5110|               5110|\n",
      "|   mean|36517.82935420744|  null|43.226614481409015|0.0974559686888454|0.05401174168297456|        null|     null|          null|106.14767710371804|28.893236911794673|          null| 0.0487279843444227|\n",
      "| stddev|21161.72162482715|  null| 22.61264672311348| 0.296606674233791|0.22606298750336554|        null|     null|          null| 45.28356015058193|  7.85406672968016|          null|0.21531985698023753|\n",
      "|    min|               67|Female|              0.08|                 0|                  0|          No| Govt_job|         Rural|             55.12|              10.3|       Unknown|                  0|\n",
      "|    max|            72940| Other|              82.0|                 1|                  1|         Yes| children|         Urban|            271.74|              97.6|        smokes|                  1|\n",
      "+-------+-----------------+------+------------------+------------------+-------------------+------------+---------+--------------+------------------+------------------+--------------+-------------------+\n",
      "\n"
     ]
    }
   ],
   "source": [
    "train.describe().show()"
   ]
  },
  {
   "cell_type": "code",
   "execution_count": 15,
   "id": "gv-RPIBKxKDx",
   "metadata": {
    "colab": {
     "base_uri": "https://localhost:8080/"
    },
    "id": "gv-RPIBKxKDx",
    "outputId": "50523431-eb74-40b0-8646-4d295f883521"
   },
   "outputs": [
    {
     "name": "stdout",
     "output_type": "stream",
     "text": [
      "+------------+-----+\n",
      "|ever_married|count|\n",
      "+------------+-----+\n",
      "|          No| 1757|\n",
      "|         Yes| 3353|\n",
      "+------------+-----+\n",
      "\n"
     ]
    }
   ],
   "source": [
    "ever_married_grouped_df=train.groupBy(\"ever_married\").count()\n",
    "ever_married_grouped_df.show()"
   ]
  },
  {
   "cell_type": "code",
   "execution_count": 16,
   "id": "ITtRbarDxKG-",
   "metadata": {
    "colab": {
     "base_uri": "https://localhost:8080/"
    },
    "id": "ITtRbarDxKG-",
    "outputId": "31a8c092-95cd-47d9-8ad6-7bfa23d49823"
   },
   "outputs": [
    {
     "name": "stdout",
     "output_type": "stream",
     "text": [
      "+-------------+-----+\n",
      "|    work_type|count|\n",
      "+-------------+-----+\n",
      "| Never_worked|   22|\n",
      "|Self-employed|  819|\n",
      "|      Private| 2925|\n",
      "|     children|  687|\n",
      "|     Govt_job|  657|\n",
      "+-------------+-----+\n",
      "\n"
     ]
    }
   ],
   "source": [
    "work_type_grouped_df=train.groupBy(\"work_type\").count()\n",
    "work_type_grouped_df.show()\n"
   ]
  },
  {
   "cell_type": "markdown",
   "id": "59b770cb",
   "metadata": {
    "id": "59b770cb"
   },
   "source": [
    "### Get the summary statistics of the age column\n",
    "- You will find the minimum age is about <b>0.08</b>.\n",
    "- Remove rows for the age below <b>2 years old</b>."
   ]
  },
  {
   "cell_type": "code",
   "execution_count": 34,
   "id": "PDZc4aGKyY-W",
   "metadata": {
    "colab": {
     "base_uri": "https://localhost:8080/"
    },
    "id": "PDZc4aGKyY-W",
    "outputId": "de6d390f-6765-4ce9-9fd7-18ff61b969f6"
   },
   "outputs": [
    {
     "name": "stdout",
     "output_type": "stream",
     "text": [
      "+-------+------------------+\n",
      "|summary|               age|\n",
      "+-------+------------------+\n",
      "|  count|              5110|\n",
      "|   mean|43.226614481409015|\n",
      "| stddev| 22.61264672311348|\n",
      "|    min|              0.08|\n",
      "|    max|              82.0|\n",
      "+-------+------------------+\n",
      "\n"
     ]
    }
   ],
   "source": [
    "train.describe('age').show()"
   ]
  },
  {
   "cell_type": "code",
   "execution_count": 34,
   "id": "ed40fb11",
   "metadata": {
    "id": "ed40fb11",
    "scrolled": false
   },
   "outputs": [],
   "source": []
  },
  {
   "cell_type": "code",
   "execution_count": 67,
   "id": "cc99c0be",
   "metadata": {
    "colab": {
     "base_uri": "https://localhost:8080/"
    },
    "id": "cc99c0be",
    "outputId": "7e42bf2c-a8b2-47c3-af5b-4fac702b47e9"
   },
   "outputs": [
    {
     "name": "stdout",
     "output_type": "stream",
     "text": [
      "+-------+------------------+\n",
      "|summary|               age|\n",
      "+-------+------------------+\n",
      "|  count|              4990|\n",
      "|   mean| 44.23907815631262|\n",
      "| stddev|21.908077881917443|\n",
      "|    min|               2.0|\n",
      "|    max|              82.0|\n",
      "+-------+------------------+\n",
      "\n"
     ]
    }
   ],
   "source": [
    "train_new = train.where(F.col('age')>=2)\n",
    "train_new.describe('age').show()"
   ]
  },
  {
   "cell_type": "markdown",
   "id": "bf8c9498",
   "metadata": {
    "id": "bf8c9498"
   },
   "source": [
    "### Working with gender & smoking_status columns:\n",
    "- Select and show the gender & smoking_status columns\n",
    "- Get the distinct values for each column."
   ]
  },
  {
   "cell_type": "code",
   "execution_count": 68,
   "id": "lAcvTc-vzWgN",
   "metadata": {
    "colab": {
     "base_uri": "https://localhost:8080/"
    },
    "id": "lAcvTc-vzWgN",
    "outputId": "64b101bd-1509-4f83-82ed-6a6ada34f1d2"
   },
   "outputs": [
    {
     "name": "stdout",
     "output_type": "stream",
     "text": [
      "+------+---------------+\n",
      "|gender| smoking_status|\n",
      "+------+---------------+\n",
      "|  Male|formerly smoked|\n",
      "|Female|   never smoked|\n",
      "|  Male|   never smoked|\n",
      "|Female|         smokes|\n",
      "|Female|   never smoked|\n",
      "|  Male|formerly smoked|\n",
      "|  Male|   never smoked|\n",
      "|Female|   never smoked|\n",
      "|Female|        Unknown|\n",
      "|Female|        Unknown|\n",
      "|Female|   never smoked|\n",
      "|Female|         smokes|\n",
      "|Female|         smokes|\n",
      "|  Male|        Unknown|\n",
      "|Female|   never smoked|\n",
      "|Female|   never smoked|\n",
      "|  Male|         smokes|\n",
      "|  Male|         smokes|\n",
      "|Female|   never smoked|\n",
      "|  Male|        Unknown|\n",
      "+------+---------------+\n",
      "only showing top 20 rows\n",
      "\n"
     ]
    }
   ],
   "source": [
    "train_new.select('gender','smoking_status').show()"
   ]
  },
  {
   "cell_type": "code",
   "execution_count": 68,
   "id": "925a5ecd",
   "metadata": {
    "id": "925a5ecd"
   },
   "outputs": [],
   "source": []
  },
  {
   "cell_type": "code",
   "execution_count": 69,
   "id": "mLeLtAVwz05U",
   "metadata": {
    "colab": {
     "base_uri": "https://localhost:8080/"
    },
    "id": "mLeLtAVwz05U",
    "outputId": "d7b1697f-f33c-4e56-92d4-2c614fab7a67"
   },
   "outputs": [
    {
     "name": "stdout",
     "output_type": "stream",
     "text": [
      "+------+\n",
      "|gender|\n",
      "+------+\n",
      "|Female|\n",
      "| Other|\n",
      "|  Male|\n",
      "+------+\n",
      "\n"
     ]
    }
   ],
   "source": [
    "train_new.select(\"gender\").distinct().show()"
   ]
  },
  {
   "cell_type": "code",
   "execution_count": 69,
   "id": "9dfe35a4",
   "metadata": {
    "id": "9dfe35a4"
   },
   "outputs": [],
   "source": []
  },
  {
   "cell_type": "code",
   "execution_count": 70,
   "id": "EaQQ6ovez6Ua",
   "metadata": {
    "colab": {
     "base_uri": "https://localhost:8080/"
    },
    "id": "EaQQ6ovez6Ua",
    "outputId": "981d9e7d-dce3-45c8-a502-61b0373012c5"
   },
   "outputs": [
    {
     "name": "stdout",
     "output_type": "stream",
     "text": [
      "+---------------+\n",
      "| smoking_status|\n",
      "+---------------+\n",
      "|         smokes|\n",
      "|        Unknown|\n",
      "|   never smoked|\n",
      "|formerly smoked|\n",
      "+---------------+\n",
      "\n"
     ]
    }
   ],
   "source": [
    "train_new.select(\"smoking_status\").distinct().show()"
   ]
  },
  {
   "cell_type": "code",
   "execution_count": 70,
   "id": "b7bf6c7e",
   "metadata": {
    "id": "b7bf6c7e"
   },
   "outputs": [],
   "source": []
  },
  {
   "cell_type": "markdown",
   "id": "850bdfe1",
   "metadata": {
    "id": "850bdfe1"
   },
   "source": [
    "#### Change the string values of the columns into numerical values as follow:\n",
    "1. Gender column:\n",
    "    * Male = 1 \n",
    "    * Female = 0 \n",
    "    * Other = 0 \n",
    "2. Smoking Status column:\n",
    "  * never smoked = 0\n",
    "  * Unknown = 0.5\n",
    "  * formerly smoked = 0.75\n",
    "  * smokes = 1.0\n"
   ]
  },
  {
   "cell_type": "code",
   "execution_count": 71,
   "id": "355f2ef0",
   "metadata": {
    "colab": {
     "base_uri": "https://localhost:8080/"
    },
    "id": "355f2ef0",
    "outputId": "c6246bdc-9ace-4589-81fb-6fdbce810978"
   },
   "outputs": [
    {
     "name": "stdout",
     "output_type": "stream",
     "text": [
      "+------+\n",
      "|gender|\n",
      "+------+\n",
      "|     1|\n",
      "|     0|\n",
      "+------+\n",
      "\n"
     ]
    }
   ],
   "source": [
    "from pyspark.sql.functions import when\n",
    "train_new = train_new.withColumn(\"gender\", when(train_new.gender == \"Male\",1) \\\n",
    "      .when(train_new.gender == \"Female\",0).otherwise(0))\n",
    "train_new.select(\"gender\").distinct().show()"
   ]
  },
  {
   "cell_type": "code",
   "execution_count": 72,
   "id": "NLvja3au0ZZC",
   "metadata": {
    "id": "NLvja3au0ZZC"
   },
   "outputs": [],
   "source": [
    "train_new = train_new.withColumn(\"smoking_status\", when(train_new.smoking_status == \"smokes\",1) \\\n",
    "      .when(train_new.smoking_status == \"formerly smoked\",0.75).when(train_new.smoking_status == \"Unknown\",0.5).otherwise(0))"
   ]
  },
  {
   "cell_type": "code",
   "execution_count": 73,
   "id": "zj94noRJ5J4Y",
   "metadata": {
    "colab": {
     "base_uri": "https://localhost:8080/"
    },
    "id": "zj94noRJ5J4Y",
    "outputId": "75505a3e-87c8-4625-da60-26c27794b5b4"
   },
   "outputs": [
    {
     "name": "stdout",
     "output_type": "stream",
     "text": [
      "+--------------+\n",
      "|smoking_status|\n",
      "+--------------+\n",
      "|           0.0|\n",
      "|           1.0|\n",
      "|           0.5|\n",
      "|          0.75|\n",
      "+--------------+\n",
      "\n"
     ]
    }
   ],
   "source": [
    "train_new.select(\"smoking_status\").distinct().show()"
   ]
  },
  {
   "cell_type": "markdown",
   "id": "3da38a31",
   "metadata": {
    "id": "3da38a31"
   },
   "source": [
    "#### Show the output DataFrame\n",
    "- Select and show the gender & smoking_status columns after value changing.\n",
    "- Print schema for the new dataframe."
   ]
  },
  {
   "cell_type": "code",
   "execution_count": 76,
   "id": "7df0cf29",
   "metadata": {
    "colab": {
     "base_uri": "https://localhost:8080/"
    },
    "id": "7df0cf29",
    "outputId": "5428400e-4b72-4b61-8028-72a06e1dc40e"
   },
   "outputs": [
    {
     "name": "stdout",
     "output_type": "stream",
     "text": [
      "+------+--------------+\n",
      "|gender|smoking_status|\n",
      "+------+--------------+\n",
      "|     1|          0.75|\n",
      "|     0|           0.0|\n",
      "|     1|           0.0|\n",
      "|     0|           1.0|\n",
      "|     0|           0.0|\n",
      "|     1|          0.75|\n",
      "|     1|           0.0|\n",
      "|     0|           0.0|\n",
      "|     0|           0.5|\n",
      "|     0|           0.5|\n",
      "|     0|           0.0|\n",
      "|     0|           1.0|\n",
      "|     0|           1.0|\n",
      "|     1|           0.5|\n",
      "|     0|           0.0|\n",
      "|     0|           0.0|\n",
      "|     1|           1.0|\n",
      "|     1|           1.0|\n",
      "|     0|           0.0|\n",
      "|     1|           0.5|\n",
      "+------+--------------+\n",
      "only showing top 20 rows\n",
      "\n"
     ]
    }
   ],
   "source": [
    "train_new.select('gender','smoking_status').show()"
   ]
  },
  {
   "cell_type": "code",
   "execution_count": 74,
   "id": "CI-nr5hx5pVJ",
   "metadata": {
    "colab": {
     "base_uri": "https://localhost:8080/"
    },
    "id": "CI-nr5hx5pVJ",
    "outputId": "50a8482e-587b-40b3-c8df-60a23cea188b"
   },
   "outputs": [
    {
     "name": "stdout",
     "output_type": "stream",
     "text": [
      "root\n",
      " |-- id: integer (nullable = true)\n",
      " |-- gender: integer (nullable = false)\n",
      " |-- age: double (nullable = true)\n",
      " |-- hypertension: integer (nullable = true)\n",
      " |-- heart_disease: integer (nullable = true)\n",
      " |-- ever_married: string (nullable = true)\n",
      " |-- work_type: string (nullable = true)\n",
      " |-- Residence_type: string (nullable = true)\n",
      " |-- avg_glucose_level: double (nullable = true)\n",
      " |-- bmi: double (nullable = true)\n",
      " |-- smoking_status: double (nullable = false)\n",
      " |-- stroke: integer (nullable = true)\n",
      "\n"
     ]
    }
   ],
   "source": [
    "train_new.printSchema()"
   ]
  },
  {
   "cell_type": "markdown",
   "id": "89ce3b77",
   "metadata": {
    "id": "89ce3b77"
   },
   "source": [
    "### Deal with null value according to your data analysis."
   ]
  },
  {
   "cell_type": "code",
   "execution_count": 79,
   "id": "48bPD4qq7kC_",
   "metadata": {
    "colab": {
     "base_uri": "https://localhost:8080/"
    },
    "id": "48bPD4qq7kC_",
    "outputId": "03cf4e30-19bc-4c9e-8b76-280940f0792c"
   },
   "outputs": [
    {
     "name": "stdout",
     "output_type": "stream",
     "text": [
      "+-------+------------------+\n",
      "|summary|               bmi|\n",
      "+-------+------------------+\n",
      "|  count|              4795|\n",
      "|   mean|29.140855057351413|\n",
      "| stddev| 7.765248721877016|\n",
      "|    min|              11.3|\n",
      "|    max|              97.6|\n",
      "+-------+------------------+\n",
      "\n"
     ]
    }
   ],
   "source": [
    "train_new.describe('bmi').show()"
   ]
  },
  {
   "cell_type": "markdown",
   "id": "yc1UYUfV8Ho-",
   "metadata": {
    "id": "yc1UYUfV8Ho-"
   },
   "source": [
    "we can see here the mean of bmi column is 29 so we can fill null values with the mean "
   ]
  },
  {
   "cell_type": "code",
   "execution_count": 85,
   "id": "4d78cb87",
   "metadata": {
    "id": "4d78cb87"
   },
   "outputs": [],
   "source": [
    "\n",
    "dff = train_new.fillna(29, subset=['bmi'])"
   ]
  },
  {
   "cell_type": "markdown",
   "id": "vE7_-AuD83UJ",
   "metadata": {
    "id": "vE7_-AuD83UJ"
   },
   "source": [
    "we can check for null values \n",
    "\n"
   ]
  },
  {
   "cell_type": "code",
   "execution_count": 86,
   "id": "c8aVFFAa6Q-z",
   "metadata": {
    "colab": {
     "base_uri": "https://localhost:8080/"
    },
    "id": "c8aVFFAa6Q-z",
    "outputId": "15f10502-a0bc-48c1-f94c-cd39827a5041"
   },
   "outputs": [
    {
     "name": "stdout",
     "output_type": "stream",
     "text": [
      "[]\n"
     ]
    }
   ],
   "source": [
    "import  pyspark.sql.functions as F\n",
    "nul_columns = []\n",
    "for col_name in dff.columns:\n",
    "    null_values = dff.where(F.col(col_name).isNull()).count()\n",
    "    if(null_values > 0):\n",
    "        nul_columns.append((col_name, null_values))\n",
    "print(nul_columns)"
   ]
  },
  {
   "cell_type": "markdown",
   "id": "_XTGtn069SGG",
   "metadata": {
    "id": "_XTGtn069SGG"
   },
   "source": [
    "now we don't have any null values"
   ]
  },
  {
   "cell_type": "markdown",
   "id": "d2HCrYro9TMo",
   "metadata": {
    "id": "d2HCrYro9TMo"
   },
   "source": [
    "## New Section"
   ]
  },
  {
   "cell_type": "markdown",
   "id": "053c429a",
   "metadata": {
    "id": "053c429a"
   },
   "source": [
    "### Split the data into training and test dataframes:\n",
    "- 80% training and 20% test.\n",
    "- seed = 42.\n",
    "- Save each dataframe as a parquet file"
   ]
  },
  {
   "cell_type": "code",
   "execution_count": 158,
   "id": "0236ea8b",
   "metadata": {
    "id": "0236ea8b"
   },
   "outputs": [],
   "source": [
    "X_train, X_test = dff.randomSplit([0.8, 0.2],seed = 42)"
   ]
  },
  {
   "cell_type": "markdown",
   "id": "78fa24da",
   "metadata": {
    "id": "78fa24da"
   },
   "source": [
    "### Read the saved Train and Test DataFrame:\n",
    "- Use the dataframes you read in the subsequent steps."
   ]
  },
  {
   "cell_type": "markdown",
   "id": "987b4b40",
   "metadata": {
    "id": "987b4b40"
   },
   "source": [
    "### Create the model:\n",
    "- Perform feature engineering steps.\n",
    "- Create the logistic regression classifier.\n",
    "- Build the pipeline model that uses all feature engineering steps and the model.\n",
    "- Train the pipeline model using the trainig dataset."
   ]
  },
  {
   "cell_type": "code",
   "execution_count": 159,
   "id": "0OFGWgsn_tGq",
   "metadata": {
    "id": "0OFGWgsn_tGq"
   },
   "outputs": [],
   "source": [
    "from pyspark.ml.feature import StringIndexer, VectorAssembler,OneHotEncoder\n",
    "from pyspark.ml import Pipeline"
   ]
  },
  {
   "cell_type": "code",
   "execution_count": 160,
   "id": "-6M1JxQ0_ICs",
   "metadata": {
    "colab": {
     "base_uri": "https://localhost:8080/"
    },
    "id": "-6M1JxQ0_ICs",
    "outputId": "cf3d7c4a-4863-4d1c-af05-c89a6034b493"
   },
   "outputs": [
    {
     "data": {
      "text/plain": [
       "['ever_married', 'work_type', 'Residence_type']"
      ]
     },
     "execution_count": 160,
     "metadata": {},
     "output_type": "execute_result"
    }
   ],
   "source": [
    "categoricalCols = [field for (field, dataType) in dff.dtypes\n",
    "                   if dataType == \"string\"]\n",
    "categoricalCols\n",
    "            "
   ]
  },
  {
   "cell_type": "code",
   "execution_count": 161,
   "id": "dS9muu7K_SxV",
   "metadata": {
    "colab": {
     "base_uri": "https://localhost:8080/"
    },
    "id": "dS9muu7K_SxV",
    "outputId": "23453f8b-29ac-4e59-e5c5-5ea724890549"
   },
   "outputs": [
    {
     "data": {
      "text/plain": [
       "['gender',\n",
       " 'age',\n",
       " 'hypertension',\n",
       " 'heart_disease',\n",
       " 'avg_glucose_level',\n",
       " 'bmi',\n",
       " 'smoking_status',\n",
       " 'stroke']"
      ]
     },
     "execution_count": 161,
     "metadata": {},
     "output_type": "execute_result"
    }
   ],
   "source": [
    "\n",
    "numericCols = [field for (field,dataType) in dff.dtypes\n",
    "              if ((dataType=='double' or dataType == 'int')& (field!='stoke'))]\n",
    "numericCols.remove('id')\n",
    "numericCols\n"
   ]
  },
  {
   "cell_type": "code",
   "execution_count": 162,
   "id": "R_MIB3Sr_Iib",
   "metadata": {
    "colab": {
     "base_uri": "https://localhost:8080/"
    },
    "id": "R_MIB3Sr_Iib",
    "outputId": "d369290f-8f4d-4f42-c5f0-45bece2b7d72"
   },
   "outputs": [
    {
     "data": {
      "text/plain": [
       "['ever_married_OHE', 'work_type_OHE', 'Residence_type_OHE']"
      ]
     },
     "execution_count": 162,
     "metadata": {},
     "output_type": "execute_result"
    }
   ],
   "source": [
    "indexOutputCols = [x + \"_Index\" for x in categoricalCols]\n",
    "indexOutputCols\n",
    "oheOutputCols = [x + \"_OHE\" for x in categoricalCols]\n",
    "oheOutputCols"
   ]
  },
  {
   "cell_type": "code",
   "execution_count": 163,
   "id": "OMAsojFz_B9G",
   "metadata": {
    "id": "OMAsojFz_B9G"
   },
   "outputs": [],
   "source": [
    "stringIndexer = StringIndexer(inputCols=categoricalCols,\n",
    "                             outputCols=indexOutputCols,\n",
    "                             handleInvalid='skip')\n",
    "oheEncoder = OneHotEncoder(inputCols=indexOutputCols,\n",
    "                          outputCols=oheOutputCols)"
   ]
  },
  {
   "cell_type": "code",
   "execution_count": 164,
   "id": "sztHLXqQAcar",
   "metadata": {
    "colab": {
     "base_uri": "https://localhost:8080/"
    },
    "id": "sztHLXqQAcar",
    "outputId": "ba874e1b-2c35-4de7-b053-9568e5faf695"
   },
   "outputs": [
    {
     "data": {
      "text/plain": [
       "['ever_married_OHE',\n",
       " 'work_type_OHE',\n",
       " 'Residence_type_OHE',\n",
       " 'gender',\n",
       " 'age',\n",
       " 'hypertension',\n",
       " 'heart_disease',\n",
       " 'avg_glucose_level',\n",
       " 'bmi',\n",
       " 'smoking_status']"
      ]
     },
     "execution_count": 164,
     "metadata": {},
     "output_type": "execute_result"
    }
   ],
   "source": [
    "assemblerInputs = oheOutputCols + numericCols\n",
    "assemblerInputs.remove('stroke')\n",
    "assemblerInputs\n"
   ]
  },
  {
   "cell_type": "code",
   "execution_count": 165,
   "id": "X90HKZR5Ad4o",
   "metadata": {
    "id": "X90HKZR5Ad4o"
   },
   "outputs": [],
   "source": [
    "vecAssembler = VectorAssembler(inputCols=assemblerInputs,outputCol='features')"
   ]
  },
  {
   "cell_type": "code",
   "execution_count": 166,
   "id": "3278e362",
   "metadata": {
    "id": "3278e362"
   },
   "outputs": [],
   "source": [
    "from pyspark.ml.classification import LogisticRegression\n",
    "LR = LogisticRegression(featuresCol = 'features', labelCol = 'stroke')\n",
    "pipeline = Pipeline(stages=[stringIndexer,oheEncoder,vecAssembler,LR])\n",
    "\n",
    "prediction = pipeline.fit(X_train)\n",
    "\n"
   ]
  },
  {
   "cell_type": "markdown",
   "id": "a05c2677",
   "metadata": {
    "id": "a05c2677"
   },
   "source": [
    "### Perform predictions on tests dataframe:\n",
    "- Test the model using the test dataframe\n",
    "- Select and show the feature column.\n",
    "- Print the schema of the output dataframe.\n",
    "- Select and show both prediction and label columns.\n",
    "- Explore the results for the label column stroke=1. i.e. select both columns (prediction,stroke) for stroke=1.<b>notice the result.</b> \n",
    "- Count the predicted 1 and 0 values.<b>notice the result.</b>   "
   ]
  },
  {
   "cell_type": "code",
   "execution_count": 167,
   "id": "d772bef6",
   "metadata": {
    "colab": {
     "base_uri": "https://localhost:8080/"
    },
    "id": "d772bef6",
    "outputId": "bd038acf-f4f0-4023-b5c4-092dadfd0f8b"
   },
   "outputs": [
    {
     "name": "stdout",
     "output_type": "stream",
     "text": [
      "+----------+------+--------------------+\n",
      "|prediction|stroke|            features|\n",
      "+----------+------+--------------------+\n",
      "|       0.0|     0|(13,[0,1,5,6,7,10...|\n",
      "|       0.0|     0|(13,[1,5,7,10,11]...|\n",
      "|       0.0|     0|(13,[0,1,7,10,11]...|\n",
      "|       0.0|     0|(13,[0,1,7,10,11,...|\n",
      "|       0.0|     0|(13,[0,1,5,6,7,10...|\n",
      "|       0.0|     0|(13,[0,1,7,10,11]...|\n",
      "|       0.0|     0|(13,[0,2,6,7,8,10...|\n",
      "|       0.0|     1|(13,[0,2,5,7,10,1...|\n",
      "|       0.0|     0|(13,[4,7,10,11,12...|\n",
      "|       0.0|     0|(13,[0,1,6,7,10,1...|\n",
      "|       0.0|     0|(13,[0,3,6,7,10,1...|\n",
      "|       0.0|     1|(13,[1,7,8,9,10,1...|\n",
      "|       0.0|     0|(13,[1,6,7,10,11]...|\n",
      "|       0.0|     0|(13,[0,2,7,10,11,...|\n",
      "|       0.0|     0|(13,[0,1,7,8,10,1...|\n",
      "|       0.0|     0|(13,[0,3,5,7,10,1...|\n",
      "|       0.0|     0|(13,[1,5,7,10,11]...|\n",
      "|       0.0|     0|[1.0,1.0,0.0,0.0,...|\n",
      "|       0.0|     0|[1.0,0.0,0.0,1.0,...|\n",
      "|       0.0|     0|(13,[1,5,7,10,11]...|\n",
      "+----------+------+--------------------+\n",
      "only showing top 20 rows\n",
      "\n"
     ]
    }
   ],
   "source": [
    "\n",
    "predictions = pipeline.fit(X_train).transform(X_test)\n",
    "\n",
    "predictions.select(\"prediction\", \"stroke\", \"features\").show()"
   ]
  },
  {
   "cell_type": "code",
   "execution_count": 168,
   "id": "3ea267eb",
   "metadata": {
    "colab": {
     "base_uri": "https://localhost:8080/"
    },
    "id": "3ea267eb",
    "outputId": "7a94c98e-cff0-49e4-9ad3-d53e7b6c9f60"
   },
   "outputs": [
    {
     "name": "stdout",
     "output_type": "stream",
     "text": [
      "root\n",
      " |-- id: integer (nullable = true)\n",
      " |-- gender: integer (nullable = false)\n",
      " |-- age: double (nullable = true)\n",
      " |-- hypertension: integer (nullable = true)\n",
      " |-- heart_disease: integer (nullable = true)\n",
      " |-- ever_married: string (nullable = true)\n",
      " |-- work_type: string (nullable = true)\n",
      " |-- Residence_type: string (nullable = true)\n",
      " |-- avg_glucose_level: double (nullable = true)\n",
      " |-- bmi: double (nullable = false)\n",
      " |-- smoking_status: double (nullable = false)\n",
      " |-- stroke: integer (nullable = true)\n",
      " |-- ever_married_Index: double (nullable = false)\n",
      " |-- work_type_Index: double (nullable = false)\n",
      " |-- Residence_type_Index: double (nullable = false)\n",
      " |-- ever_married_OHE: vector (nullable = true)\n",
      " |-- work_type_OHE: vector (nullable = true)\n",
      " |-- Residence_type_OHE: vector (nullable = true)\n",
      " |-- features: vector (nullable = true)\n",
      " |-- rawPrediction: vector (nullable = true)\n",
      " |-- probability: vector (nullable = true)\n",
      " |-- prediction: double (nullable = false)\n",
      "\n"
     ]
    }
   ],
   "source": [
    "predictions.printSchema()"
   ]
  },
  {
   "cell_type": "code",
   "execution_count": 169,
   "id": "480d892e",
   "metadata": {
    "colab": {
     "base_uri": "https://localhost:8080/"
    },
    "id": "480d892e",
    "outputId": "a58c0f6e-41e0-4e51-82f3-5f1d508de00c",
    "scrolled": false
   },
   "outputs": [
    {
     "name": "stdout",
     "output_type": "stream",
     "text": [
      "+----------+------+\n",
      "|prediction|stroke|\n",
      "+----------+------+\n",
      "|       0.0|     1|\n",
      "|       0.0|     1|\n",
      "|       0.0|     1|\n",
      "|       0.0|     1|\n",
      "|       0.0|     1|\n",
      "|       0.0|     1|\n",
      "|       0.0|     1|\n",
      "|       0.0|     1|\n",
      "|       0.0|     1|\n",
      "|       0.0|     1|\n",
      "|       0.0|     1|\n",
      "|       0.0|     1|\n",
      "|       0.0|     1|\n",
      "|       0.0|     1|\n",
      "|       0.0|     1|\n",
      "|       0.0|     1|\n",
      "|       0.0|     1|\n",
      "|       0.0|     1|\n",
      "|       0.0|     1|\n",
      "|       0.0|     1|\n",
      "+----------+------+\n",
      "only showing top 20 rows\n",
      "\n"
     ]
    }
   ],
   "source": [
    "predictions.select(\"prediction\", \"stroke\").where(col('stroke')==1).show()"
   ]
  },
  {
   "cell_type": "code",
   "execution_count": 170,
   "id": "AzsIMjukE7Af",
   "metadata": {
    "colab": {
     "base_uri": "https://localhost:8080/"
    },
    "id": "AzsIMjukE7Af",
    "outputId": "53d08a0e-7c7f-4684-e0a1-1f3460ade7fc"
   },
   "outputs": [
    {
     "name": "stdout",
     "output_type": "stream",
     "text": [
      "+----------+-----+\n",
      "|prediction|count|\n",
      "+----------+-----+\n",
      "|       0.0|  953|\n",
      "+----------+-----+\n",
      "\n"
     ]
    }
   ],
   "source": [
    "predictions.groupBy('prediction').count().show()"
   ]
  },
  {
   "cell_type": "markdown",
   "id": "daec120f",
   "metadata": {
    "id": "daec120f"
   },
   "source": [
    "### Evaluate the model performance\n",
    "- Use <b>BinaryClassificationEvaluator</b>. This will calculate the <b>ROC</b>.\n",
    "- Set the parameters as follow:\n",
    "    - <b>rawPredictionCol='prediction'</b> and <b>labelCol='stroke'</b>"
   ]
  },
  {
   "cell_type": "code",
   "execution_count": 171,
   "id": "a7b5ad25",
   "metadata": {
    "id": "a7b5ad25"
   },
   "outputs": [],
   "source": [
    "from pyspark.ml.evaluation import BinaryClassificationEvaluator"
   ]
  },
  {
   "cell_type": "code",
   "execution_count": 172,
   "id": "44d3a1e6",
   "metadata": {
    "id": "44d3a1e6"
   },
   "outputs": [],
   "source": [
    "evaluatorROC = BinaryClassificationEvaluator(rawPredictionCol='prediction'\n",
    "                                             ,labelCol='stroke')"
   ]
  },
  {
   "cell_type": "code",
   "execution_count": 173,
   "id": "3adbe41f",
   "metadata": {
    "colab": {
     "base_uri": "https://localhost:8080/"
    },
    "id": "3adbe41f",
    "outputId": "dcaf8d1d-24f2-4444-8f88-4eb61cd18f2a"
   },
   "outputs": [
    {
     "data": {
      "text/plain": [
       "0.5"
      ]
     },
     "execution_count": 173,
     "metadata": {},
     "output_type": "execute_result"
    }
   ],
   "source": [
    "evaluatorROC.evaluate(predictions)"
   ]
  },
  {
   "cell_type": "markdown",
   "id": "40206589",
   "metadata": {
    "id": "40206589"
   },
   "source": [
    "### Improve Model Performance\n",
    "- We noticed that <b>the target label is imbalanced</b>.\n",
    "- LogisticRegression classifier has a special parameter <b>weightCol</b> to deal with imbalanced class.\n",
    "- In order to use this parameter We must have a <b>weightCol</b> in our training dataframe.\n",
    "- In order to create this column We will need to define a <b>UDF</b> and apply it to the target label column.\n",
    "- Create a LogisticRegression classifier with <b>weightCol</b> parameter.\n",
    "- Build and train a pipeline model with the new LogisticRegression.\n",
    "- Perform the prediction on the test dataframe. \n",
    "- Select and show both prediction and label columns.\n",
    "- Explore the results for the label column stroke=1. i.e. select both columns (prediction,stroke) for stroke=1.<b>notice the result.</b> \n",
    "- Count the predicted 1 and 0 values.<b>notice the result.</b>   \n",
    "- Evaluate the model performance exactly as in the previous step.\n",
    "### ROC SHOULD be   > 0.65\n",
    "<BR>\n"
   ]
  },
  {
   "cell_type": "code",
   "execution_count": 187,
   "id": "03385adc",
   "metadata": {
    "colab": {
     "base_uri": "https://localhost:8080/"
    },
    "id": "03385adc",
    "outputId": "a60aac74-8fb3-4ee0-e9c0-4dfdc3b55ba4"
   },
   "outputs": [
    {
     "name": "stdout",
     "output_type": "stream",
     "text": [
      "Probability of stroke==0: 0.9499628436958137 ,Probability of stroke==1: 0.05003715630418628\n"
     ]
    }
   ],
   "source": [
    "stroke_0=X_train.select('stroke').where(col('stroke')==0).count()\n",
    "stroke_1=X_train.select('stroke').where(col('stroke')==1).count()\n",
    "total=X_train.select('stroke').count()\n",
    "prob_stroke_1=stroke_1/total\n",
    "prob_stroke_0=stroke_0/total\n",
    "print(\"Probability of stroke==0: {} ,Probability of stroke==1: {}\".format(prob_stroke_0,prob_stroke_1))\n",
    "def weightedcol(x):\n",
    "    if x==0:\n",
    "        return 1-prob_stroke_0\n",
    "    else:\n",
    "        return 1-prob_stroke_1\n",
    "convertUDF = udf(lambda z: weightedcol(z),DoubleType())\n",
    "\n"
   ]
  },
  {
   "cell_type": "code",
   "execution_count": 188,
   "id": "M99giu3LNsRN",
   "metadata": {
    "colab": {
     "base_uri": "https://localhost:8080/"
    },
    "id": "M99giu3LNsRN",
    "outputId": "3771b47a-c47b-494a-bdbf-bee81fa8f021"
   },
   "outputs": [
    {
     "name": "stdout",
     "output_type": "stream",
     "text": [
      "+---+------+----+------------+-------------+------------+-------------+--------------+-----------------+----+--------------+------+-------------------+\n",
      "|id |gender|age |hypertension|heart_disease|ever_married|work_type    |Residence_type|avg_glucose_level|bmi |smoking_status|stroke|weightCol          |\n",
      "+---+------+----+------------+-------------+------------+-------------+--------------+-----------------+----+--------------+------+-------------------+\n",
      "|67 |0     |17.0|0           |0            |No          |Private      |Urban         |92.97            |29.0|0.75          |0     |0.05003715630418626|\n",
      "|77 |0     |13.0|0           |0            |No          |children     |Rural         |85.81            |18.6|0.5           |0     |0.05003715630418626|\n",
      "|91 |0     |42.0|0           |0            |No          |Private      |Urban         |98.53            |18.5|0.0           |0     |0.05003715630418626|\n",
      "|99 |0     |31.0|0           |0            |No          |Private      |Urban         |108.89           |52.3|0.5           |0     |0.05003715630418626|\n",
      "|121|0     |38.0|0           |0            |Yes         |Private      |Urban         |91.44            |29.0|0.5           |0     |0.05003715630418626|\n",
      "|132|0     |80.0|0           |0            |Yes         |Govt_job     |Urban         |84.86            |29.0|0.5           |0     |0.05003715630418626|\n",
      "|163|0     |20.0|0           |0            |No          |Private      |Rural         |94.67            |28.8|0.5           |0     |0.05003715630418626|\n",
      "|170|1     |43.0|0           |0            |Yes         |Govt_job     |Rural         |80.07            |29.0|0.0           |0     |0.05003715630418626|\n",
      "|172|1     |8.0 |0           |0            |No          |children     |Urban         |78.76            |29.0|0.5           |0     |0.05003715630418626|\n",
      "|187|0     |20.0|0           |0            |No          |Private      |Rural         |84.07            |27.6|1.0           |0     |0.05003715630418626|\n",
      "|210|1     |81.0|0           |0            |Yes         |Self-employed|Rural         |91.54            |31.4|0.0           |1     |0.9499628436958137 |\n",
      "|224|0     |23.0|0           |0            |No          |Private      |Urban         |110.16           |29.0|0.0           |0     |0.05003715630418626|\n",
      "|239|1     |59.0|1           |1            |Yes         |Private      |Rural         |246.53           |27.2|0.75          |0     |0.05003715630418626|\n",
      "|242|1     |4.0 |0           |0            |No          |children     |Urban         |98.56            |17.5|0.5           |0     |0.05003715630418626|\n",
      "|247|1     |31.0|0           |0            |No          |Private      |Urban         |72.6             |31.6|0.0           |0     |0.05003715630418626|\n",
      "|298|0     |41.0|0           |0            |Yes         |Self-employed|Rural         |76.66            |29.0|0.5           |0     |0.05003715630418626|\n",
      "|315|1     |45.0|0           |0            |Yes         |Private      |Rural         |65.42            |39.7|0.0           |0     |0.05003715630418626|\n",
      "|321|0     |79.0|0           |0            |No          |Self-employed|Rural         |71.98            |36.4|0.0           |0     |0.05003715630418626|\n",
      "|347|0     |16.0|0           |0            |No          |Private      |Urban         |89.45            |29.0|0.5           |0     |0.05003715630418626|\n",
      "|354|0     |65.0|0           |0            |Yes         |Private      |Urban         |72.49            |28.9|1.0           |0     |0.05003715630418626|\n",
      "+---+------+----+------------+-------------+------------+-------------+--------------+-----------------+----+--------------+------+-------------------+\n",
      "only showing top 20 rows\n",
      "\n"
     ]
    }
   ],
   "source": [
    "new_train = X_train.select(F.col(\"*\"),convertUDF(F.col(\"stroke\")).alias(\"weightCol\") )\n",
    "\n",
    "new_train.show(truncate=False)"
   ]
  },
  {
   "cell_type": "code",
   "execution_count": null,
   "id": "P02WkwTON1Z8",
   "metadata": {
    "id": "P02WkwTON1Z8"
   },
   "outputs": [],
   "source": []
  },
  {
   "cell_type": "code",
   "execution_count": 193,
   "id": "pwnDffVNJ4hX",
   "metadata": {
    "id": "pwnDffVNJ4hX"
   },
   "outputs": [],
   "source": [
    "from pyspark.ml.classification import LogisticRegression\n",
    "LR_new = LogisticRegression(featuresCol = 'features', labelCol = 'stroke',weightCol='weightCol')\n",
    "pipeline_new = Pipeline(stages=[stringIndexer,oheEncoder,vecAssembler,LR_new])\n",
    "\n",
    "\n",
    "predictions_new = pipeline_new.fit(new_train)\n",
    "p=predictions_new.transform(X_test)\n",
    "\n",
    "# predictions_new.select(\"prediction\", \"stroke\", \"features\").show()"
   ]
  },
  {
   "cell_type": "code",
   "execution_count": 194,
   "id": "4e8c18b5",
   "metadata": {
    "colab": {
     "base_uri": "https://localhost:8080/"
    },
    "id": "4e8c18b5",
    "outputId": "3ca27bb9-76da-4acb-bcd2-8ef6ddc3cb1b"
   },
   "outputs": [
    {
     "data": {
      "text/plain": [
       "0.7757777671252577"
      ]
     },
     "execution_count": 194,
     "metadata": {},
     "output_type": "execute_result"
    }
   ],
   "source": [
    "evaluatorROC.evaluate(p)"
   ]
  }
 ],
 "metadata": {
  "colab": {
   "name": "Spark and Python for Big Data Final Exam.ipynb",
   "provenance": []
  },
  "kernelspec": {
   "display_name": "Python 3",
   "language": "python",
   "name": "python3"
  },
  "language_info": {
   "codemirror_mode": {
    "name": "ipython",
    "version": 3
   },
   "file_extension": ".py",
   "mimetype": "text/x-python",
   "name": "python",
   "nbconvert_exporter": "python",
   "pygments_lexer": "ipython3",
   "version": "3.8.8"
  }
 },
 "nbformat": 4,
 "nbformat_minor": 5
}
